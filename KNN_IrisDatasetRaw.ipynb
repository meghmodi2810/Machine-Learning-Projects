{
  "nbformat": 4,
  "nbformat_minor": 0,
  "metadata": {
    "colab": {
      "provenance": [],
      "authorship_tag": "ABX9TyOuajjywgwGKnXiZeaFNU4m",
      "include_colab_link": true
    },
    "kernelspec": {
      "name": "python3",
      "display_name": "Python 3"
    },
    "language_info": {
      "name": "python"
    }
  },
  "cells": [
    {
      "cell_type": "markdown",
      "metadata": {
        "id": "view-in-github",
        "colab_type": "text"
      },
      "source": [
        "<a href=\"https://colab.research.google.com/github/meghmodi2810/Machine-Learning-Projects/blob/main/KNN_IrisDatasetRaw.ipynb\" target=\"_parent\"><img src=\"https://colab.research.google.com/assets/colab-badge.svg\" alt=\"Open In Colab\"/></a>"
      ]
    },
    {
      "cell_type": "code",
      "execution_count": 111,
      "metadata": {
        "id": "qW4KgPP1RzbU"
      },
      "outputs": [],
      "source": [
        "import csv\n",
        "import math\n",
        "import random"
      ]
    },
    {
      "cell_type": "code",
      "source": [
        "with open(\"sample_data/iris.csv\") as f:\n",
        "    lines = csv.reader(f)\n",
        "    for row in lines:\n",
        "        print(\", \".join(row))"
      ],
      "metadata": {
        "colab": {
          "base_uri": "https://localhost:8080/"
        },
        "id": "bznGogcQTkhD",
        "outputId": "56243b98-686f-42f0-c5ec-fab9e9d9fa95"
      },
      "execution_count": 112,
      "outputs": [
        {
          "output_type": "stream",
          "name": "stdout",
          "text": [
            "sepal.length, sepal.width, petal.length, petal.width, variety\n",
            "5.1, 3.5, 1.4, .2, Setosa\n",
            "4.9, 3, 1.4, .2, Setosa\n",
            "4.7, 3.2, 1.3, .2, Setosa\n",
            "4.6, 3.1, 1.5, .2, Setosa\n",
            "5, 3.6, 1.4, .2, Setosa\n",
            "5.4, 3.9, 1.7, .4, Setosa\n",
            "4.6, 3.4, 1.4, .3, Setosa\n",
            "5, 3.4, 1.5, .2, Setosa\n",
            "4.4, 2.9, 1.4, .2, Setosa\n",
            "4.9, 3.1, 1.5, .1, Setosa\n",
            "5.4, 3.7, 1.5, .2, Setosa\n",
            "4.8, 3.4, 1.6, .2, Setosa\n",
            "4.8, 3, 1.4, .1, Setosa\n",
            "4.3, 3, 1.1, .1, Setosa\n",
            "5.8, 4, 1.2, .2, Setosa\n",
            "5.7, 4.4, 1.5, .4, Setosa\n",
            "5.4, 3.9, 1.3, .4, Setosa\n",
            "5.1, 3.5, 1.4, .3, Setosa\n",
            "5.7, 3.8, 1.7, .3, Setosa\n",
            "5.1, 3.8, 1.5, .3, Setosa\n",
            "5.4, 3.4, 1.7, .2, Setosa\n",
            "5.1, 3.7, 1.5, .4, Setosa\n",
            "4.6, 3.6, 1, .2, Setosa\n",
            "5.1, 3.3, 1.7, .5, Setosa\n",
            "4.8, 3.4, 1.9, .2, Setosa\n",
            "5, 3, 1.6, .2, Setosa\n",
            "5, 3.4, 1.6, .4, Setosa\n",
            "5.2, 3.5, 1.5, .2, Setosa\n",
            "5.2, 3.4, 1.4, .2, Setosa\n",
            "4.7, 3.2, 1.6, .2, Setosa\n",
            "4.8, 3.1, 1.6, .2, Setosa\n",
            "5.4, 3.4, 1.5, .4, Setosa\n",
            "5.2, 4.1, 1.5, .1, Setosa\n",
            "5.5, 4.2, 1.4, .2, Setosa\n",
            "4.9, 3.1, 1.5, .2, Setosa\n",
            "5, 3.2, 1.2, .2, Setosa\n",
            "5.5, 3.5, 1.3, .2, Setosa\n",
            "4.9, 3.6, 1.4, .1, Setosa\n",
            "4.4, 3, 1.3, .2, Setosa\n",
            "5.1, 3.4, 1.5, .2, Setosa\n",
            "5, 3.5, 1.3, .3, Setosa\n",
            "4.5, 2.3, 1.3, .3, Setosa\n",
            "4.4, 3.2, 1.3, .2, Setosa\n",
            "5, 3.5, 1.6, .6, Setosa\n",
            "5.1, 3.8, 1.9, .4, Setosa\n",
            "4.8, 3, 1.4, .3, Setosa\n",
            "5.1, 3.8, 1.6, .2, Setosa\n",
            "4.6, 3.2, 1.4, .2, Setosa\n",
            "5.3, 3.7, 1.5, .2, Setosa\n",
            "5, 3.3, 1.4, .2, Setosa\n",
            "7, 3.2, 4.7, 1.4, Versicolor\n",
            "6.4, 3.2, 4.5, 1.5, Versicolor\n",
            "6.9, 3.1, 4.9, 1.5, Versicolor\n",
            "5.5, 2.3, 4, 1.3, Versicolor\n",
            "6.5, 2.8, 4.6, 1.5, Versicolor\n",
            "5.7, 2.8, 4.5, 1.3, Versicolor\n",
            "6.3, 3.3, 4.7, 1.6, Versicolor\n",
            "4.9, 2.4, 3.3, 1, Versicolor\n",
            "6.6, 2.9, 4.6, 1.3, Versicolor\n",
            "5.2, 2.7, 3.9, 1.4, Versicolor\n",
            "5, 2, 3.5, 1, Versicolor\n",
            "5.9, 3, 4.2, 1.5, Versicolor\n",
            "6, 2.2, 4, 1, Versicolor\n",
            "6.1, 2.9, 4.7, 1.4, Versicolor\n",
            "5.6, 2.9, 3.6, 1.3, Versicolor\n",
            "6.7, 3.1, 4.4, 1.4, Versicolor\n",
            "5.6, 3, 4.5, 1.5, Versicolor\n",
            "5.8, 2.7, 4.1, 1, Versicolor\n",
            "6.2, 2.2, 4.5, 1.5, Versicolor\n",
            "5.6, 2.5, 3.9, 1.1, Versicolor\n",
            "5.9, 3.2, 4.8, 1.8, Versicolor\n",
            "6.1, 2.8, 4, 1.3, Versicolor\n",
            "6.3, 2.5, 4.9, 1.5, Versicolor\n",
            "6.1, 2.8, 4.7, 1.2, Versicolor\n",
            "6.4, 2.9, 4.3, 1.3, Versicolor\n",
            "6.6, 3, 4.4, 1.4, Versicolor\n",
            "6.8, 2.8, 4.8, 1.4, Versicolor\n",
            "6.7, 3, 5, 1.7, Versicolor\n",
            "6, 2.9, 4.5, 1.5, Versicolor\n",
            "5.7, 2.6, 3.5, 1, Versicolor\n",
            "5.5, 2.4, 3.8, 1.1, Versicolor\n",
            "5.5, 2.4, 3.7, 1, Versicolor\n",
            "5.8, 2.7, 3.9, 1.2, Versicolor\n",
            "6, 2.7, 5.1, 1.6, Versicolor\n",
            "5.4, 3, 4.5, 1.5, Versicolor\n",
            "6, 3.4, 4.5, 1.6, Versicolor\n",
            "6.7, 3.1, 4.7, 1.5, Versicolor\n",
            "6.3, 2.3, 4.4, 1.3, Versicolor\n",
            "5.6, 3, 4.1, 1.3, Versicolor\n",
            "5.5, 2.5, 4, 1.3, Versicolor\n",
            "5.5, 2.6, 4.4, 1.2, Versicolor\n",
            "6.1, 3, 4.6, 1.4, Versicolor\n",
            "5.8, 2.6, 4, 1.2, Versicolor\n",
            "5, 2.3, 3.3, 1, Versicolor\n",
            "5.6, 2.7, 4.2, 1.3, Versicolor\n",
            "5.7, 3, 4.2, 1.2, Versicolor\n",
            "5.7, 2.9, 4.2, 1.3, Versicolor\n",
            "6.2, 2.9, 4.3, 1.3, Versicolor\n",
            "5.1, 2.5, 3, 1.1, Versicolor\n",
            "5.7, 2.8, 4.1, 1.3, Versicolor\n",
            "6.3, 3.3, 6, 2.5, Virginica\n",
            "5.8, 2.7, 5.1, 1.9, Virginica\n",
            "7.1, 3, 5.9, 2.1, Virginica\n",
            "6.3, 2.9, 5.6, 1.8, Virginica\n",
            "6.5, 3, 5.8, 2.2, Virginica\n",
            "7.6, 3, 6.6, 2.1, Virginica\n",
            "4.9, 2.5, 4.5, 1.7, Virginica\n",
            "7.3, 2.9, 6.3, 1.8, Virginica\n",
            "6.7, 2.5, 5.8, 1.8, Virginica\n",
            "7.2, 3.6, 6.1, 2.5, Virginica\n",
            "6.5, 3.2, 5.1, 2, Virginica\n",
            "6.4, 2.7, 5.3, 1.9, Virginica\n",
            "6.8, 3, 5.5, 2.1, Virginica\n",
            "5.7, 2.5, 5, 2, Virginica\n",
            "5.8, 2.8, 5.1, 2.4, Virginica\n",
            "6.4, 3.2, 5.3, 2.3, Virginica\n",
            "6.5, 3, 5.5, 1.8, Virginica\n",
            "7.7, 3.8, 6.7, 2.2, Virginica\n",
            "7.7, 2.6, 6.9, 2.3, Virginica\n",
            "6, 2.2, 5, 1.5, Virginica\n",
            "6.9, 3.2, 5.7, 2.3, Virginica\n",
            "5.6, 2.8, 4.9, 2, Virginica\n",
            "7.7, 2.8, 6.7, 2, Virginica\n",
            "6.3, 2.7, 4.9, 1.8, Virginica\n",
            "6.7, 3.3, 5.7, 2.1, Virginica\n",
            "7.2, 3.2, 6, 1.8, Virginica\n",
            "6.2, 2.8, 4.8, 1.8, Virginica\n",
            "6.1, 3, 4.9, 1.8, Virginica\n",
            "6.4, 2.8, 5.6, 2.1, Virginica\n",
            "7.2, 3, 5.8, 1.6, Virginica\n",
            "7.4, 2.8, 6.1, 1.9, Virginica\n",
            "7.9, 3.8, 6.4, 2, Virginica\n",
            "6.4, 2.8, 5.6, 2.2, Virginica\n",
            "6.3, 2.8, 5.1, 1.5, Virginica\n",
            "6.1, 2.6, 5.6, 1.4, Virginica\n",
            "7.7, 3, 6.1, 2.3, Virginica\n",
            "6.3, 3.4, 5.6, 2.4, Virginica\n",
            "6.4, 3.1, 5.5, 1.8, Virginica\n",
            "6, 3, 4.8, 1.8, Virginica\n",
            "6.9, 3.1, 5.4, 2.1, Virginica\n",
            "6.7, 3.1, 5.6, 2.4, Virginica\n",
            "6.9, 3.1, 5.1, 2.3, Virginica\n",
            "5.8, 2.7, 5.1, 1.9, Virginica\n",
            "6.8, 3.2, 5.9, 2.3, Virginica\n",
            "6.7, 3.3, 5.7, 2.5, Virginica\n",
            "6.7, 3, 5.2, 2.3, Virginica\n",
            "6.3, 2.5, 5, 1.9, Virginica\n",
            "6.5, 3, 5.2, 2, Virginica\n",
            "6.2, 3.4, 5.4, 2.3, Virginica\n",
            "5.9, 3, 5.1, 1.8, Virginica\n"
          ]
        }
      ]
    },
    {
      "cell_type": "code",
      "source": [
        "def loadDataset(filename, split, trainingSet = [], testSet = []):\n",
        "    with open(filename, \"r\") as csvfile:\n",
        "        lines = csv.reader(csvfile)\n",
        "        next(lines)\n",
        "        row[4] = row[4].strip().lower()\n",
        "        dataset = list(lines)\n",
        "        for x in range(len(dataset)):\n",
        "          for y in range(4):\n",
        "            dataset[x][y] = float(dataset[x][y])\n",
        "          if random.random() < split:\n",
        "            trainingSet.append(dataset[x])\n",
        "          else:\n",
        "            testSet.append(dataset[x])\n"
      ],
      "metadata": {
        "id": "76VmHxlOUAem"
      },
      "execution_count": 113,
      "outputs": []
    },
    {
      "cell_type": "code",
      "source": [
        "def euclideanDist(instance1, instance2, length):\n",
        "  dist = 0\n",
        "  for x in range(length):\n",
        "    dist += pow(instance1[x] - instance2[x], 2)\n",
        "  return math.sqrt(dist)"
      ],
      "metadata": {
        "id": "hmL_pnOOVPHo"
      },
      "execution_count": 114,
      "outputs": []
    },
    {
      "cell_type": "code",
      "source": [
        "import operator\n",
        "def getNeighbours(trainSet, testSet, K):\n",
        "  distances = []\n",
        "  length = len(testSet) - 1\n",
        "  for x in range(len(trainSet)):\n",
        "    dist = euclideanDist(testSet, trainSet[x], length)\n",
        "    distances.append((trainSet[x], dist))\n",
        "  distances.sort(key=operator.itemgetter(1))\n",
        "  neighbours = []\n",
        "  for x in range(K):\n",
        "    neighbours.append(distances[x][0])\n",
        "  return neighbours"
      ],
      "metadata": {
        "id": "SzTyce1yWziN"
      },
      "execution_count": 115,
      "outputs": []
    },
    {
      "cell_type": "code",
      "source": [
        "def getResponse(neighbours):\n",
        "  ClassVotes = {}\n",
        "  for x in range(len(neighbours)):\n",
        "    response = neighbours[x][-1].strip().lower()\n",
        "    if response in ClassVotes:\n",
        "      ClassVotes[response] += 1\n",
        "    else:\n",
        "      ClassVotes[response] = 1\n",
        "  sortedVotes = sorted(ClassVotes.items(), key=operator.itemgetter(1), reverse=True)\n",
        "  return sortedVotes[0][0]"
      ],
      "metadata": {
        "id": "wPyzyjB9ZUsh"
      },
      "execution_count": 116,
      "outputs": []
    },
    {
      "cell_type": "code",
      "source": [
        "def getAccuracy(testSet, predictions):\n",
        "  correct = 0\n",
        "  for x in range(len(testSet)):\n",
        "    if testSet[x][-1].strip().lower() == predictions[x].strip().lower():\n",
        "      correct += 1\n",
        "  return (correct / float(len(testSet))) * 100.0"
      ],
      "metadata": {
        "id": "gT6S0AcxZ9Sz"
      },
      "execution_count": 117,
      "outputs": []
    },
    {
      "cell_type": "code",
      "source": [
        "def main():\n",
        "  trainSet = []\n",
        "  testSet = []\n",
        "  split = 0.67\n",
        "  loadDataset(\"sample_data/iris.csv\", 0.66, trainSet, testSet)\n",
        "  print(\"Train: \" + repr(len(trainSet)))\n",
        "  print(\"Test: \" + repr(len(testSet)))\n",
        "\n",
        "  predictions = []\n",
        "  k = 3\n",
        "  for x in range(len(testSet)):\n",
        "    neighbours = getNeighbours(trainSet, testSet[x], k)\n",
        "    result = getResponse(neighbours)\n",
        "    predictions.append(result)\n",
        "    print('> predicted=' + repr(result) + ', actual=' + repr(testSet[x][-1]))\n",
        "  accuracy = getAccuracy(testSet, predictions)\n",
        "  print(f\"Accuracy : {accuracy : .2f}\")"
      ],
      "metadata": {
        "id": "JFGL2PoOUzeB"
      },
      "execution_count": 118,
      "outputs": []
    },
    {
      "cell_type": "code",
      "source": [
        "main()"
      ],
      "metadata": {
        "colab": {
          "base_uri": "https://localhost:8080/"
        },
        "id": "KJbvxRAsbZ4S",
        "outputId": "0fe1c4bc-28e9-4fc0-a9af-aac24c1d7420"
      },
      "execution_count": 119,
      "outputs": [
        {
          "output_type": "stream",
          "name": "stdout",
          "text": [
            "Train: 94\n",
            "Test: 56\n",
            "> predicted='setosa', actual='Setosa'\n",
            "> predicted='setosa', actual='Setosa'\n",
            "> predicted='setosa', actual='Setosa'\n",
            "> predicted='setosa', actual='Setosa'\n",
            "> predicted='setosa', actual='Setosa'\n",
            "> predicted='setosa', actual='Setosa'\n",
            "> predicted='setosa', actual='Setosa'\n",
            "> predicted='setosa', actual='Setosa'\n",
            "> predicted='setosa', actual='Setosa'\n",
            "> predicted='setosa', actual='Setosa'\n",
            "> predicted='setosa', actual='Setosa'\n",
            "> predicted='setosa', actual='Setosa'\n",
            "> predicted='setosa', actual='Setosa'\n",
            "> predicted='setosa', actual='Setosa'\n",
            "> predicted='setosa', actual='Setosa'\n",
            "> predicted='setosa', actual='Setosa'\n",
            "> predicted='setosa', actual='Setosa'\n",
            "> predicted='setosa', actual='Setosa'\n",
            "> predicted='setosa', actual='Setosa'\n",
            "> predicted='setosa', actual='Setosa'\n",
            "> predicted='versicolor', actual='Versicolor'\n",
            "> predicted='versicolor', actual='Versicolor'\n",
            "> predicted='versicolor', actual='Versicolor'\n",
            "> predicted='versicolor', actual='Versicolor'\n",
            "> predicted='versicolor', actual='Versicolor'\n",
            "> predicted='versicolor', actual='Versicolor'\n",
            "> predicted='versicolor', actual='Versicolor'\n",
            "> predicted='versicolor', actual='Versicolor'\n",
            "> predicted='virginica', actual='Versicolor'\n",
            "> predicted='versicolor', actual='Versicolor'\n",
            "> predicted='virginica', actual='Versicolor'\n",
            "> predicted='versicolor', actual='Versicolor'\n",
            "> predicted='versicolor', actual='Versicolor'\n",
            "> predicted='versicolor', actual='Versicolor'\n",
            "> predicted='versicolor', actual='Versicolor'\n",
            "> predicted='versicolor', actual='Versicolor'\n",
            "> predicted='versicolor', actual='Versicolor'\n",
            "> predicted='versicolor', actual='Versicolor'\n",
            "> predicted='virginica', actual='Virginica'\n",
            "> predicted='virginica', actual='Virginica'\n",
            "> predicted='virginica', actual='Virginica'\n",
            "> predicted='virginica', actual='Virginica'\n",
            "> predicted='virginica', actual='Virginica'\n",
            "> predicted='virginica', actual='Virginica'\n",
            "> predicted='virginica', actual='Virginica'\n",
            "> predicted='virginica', actual='Virginica'\n",
            "> predicted='virginica', actual='Virginica'\n",
            "> predicted='virginica', actual='Virginica'\n",
            "> predicted='virginica', actual='Virginica'\n",
            "> predicted='virginica', actual='Virginica'\n",
            "> predicted='virginica', actual='Virginica'\n",
            "> predicted='virginica', actual='Virginica'\n",
            "> predicted='virginica', actual='Virginica'\n",
            "> predicted='virginica', actual='Virginica'\n",
            "> predicted='virginica', actual='Virginica'\n",
            "> predicted='virginica', actual='Virginica'\n",
            "Accuracy :  96.43\n"
          ]
        }
      ]
    },
    {
      "cell_type": "code",
      "source": [],
      "metadata": {
        "id": "8D7Ngl61bbnu"
      },
      "execution_count": 119,
      "outputs": []
    }
  ]
}