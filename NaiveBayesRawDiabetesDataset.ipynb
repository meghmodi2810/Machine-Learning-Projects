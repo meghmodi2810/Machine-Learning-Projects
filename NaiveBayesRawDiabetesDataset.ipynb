{
  "nbformat": 4,
  "nbformat_minor": 0,
  "metadata": {
    "colab": {
      "provenance": [],
      "authorship_tag": "ABX9TyMPlZlCy8l5h37JM0klEkOA",
      "include_colab_link": true
    },
    "kernelspec": {
      "name": "python3",
      "display_name": "Python 3"
    },
    "language_info": {
      "name": "python"
    }
  },
  "cells": [
    {
      "cell_type": "markdown",
      "metadata": {
        "id": "view-in-github",
        "colab_type": "text"
      },
      "source": [
        "<a href=\"https://colab.research.google.com/github/meghmodi2810/Machine-Learning-Projects/blob/main/NaiveBayesRawDiabetesDataset.ipynb\" target=\"_parent\"><img src=\"https://colab.research.google.com/assets/colab-badge.svg\" alt=\"Open In Colab\"/></a>"
      ]
    },
    {
      "cell_type": "code",
      "execution_count": 206,
      "metadata": {
        "id": "MQc6JBaDoKtf"
      },
      "outputs": [],
      "source": [
        "import csv\n",
        "import random\n",
        "import math"
      ]
    },
    {
      "cell_type": "code",
      "source": [
        "def load_csv(filename):\n",
        "  lines = csv.reader(open(filename, mode=\"r\"))\n",
        "  next(lines)\n",
        "  dataset = list(lines)\n",
        "  for i in range(len(dataset)):\n",
        "    dataset[i] = [float(x) for x in dataset[i]]\n",
        "  return dataset"
      ],
      "metadata": {
        "id": "5qITGyRQpceE"
      },
      "execution_count": 207,
      "outputs": []
    },
    {
      "cell_type": "code",
      "source": [
        "def split_dataset(dataset, split_ratio):\n",
        "  train_size = int(len(dataset) * split_ratio)\n",
        "  train_set = []\n",
        "  copy = list(dataset)\n",
        "  while(len(train_set) < train_size):\n",
        "    index = random.randrange(len(copy))\n",
        "    train_set.append(copy.pop(index))\n",
        "  return [train_set, copy]"
      ],
      "metadata": {
        "id": "iGyA8nc0qESD"
      },
      "execution_count": 208,
      "outputs": []
    },
    {
      "cell_type": "code",
      "source": [
        "def separate_class(dataset):\n",
        "  seprated = {}\n",
        "  for i in range(len(dataset)):\n",
        "    vector = dataset[i]\n",
        "    if(vector[-1] not in seprated):\n",
        "      seprated[vector[-1]] = []\n",
        "    seprated[vector[-1]].append(vector)\n",
        "  return seprated"
      ],
      "metadata": {
        "id": "ANRil_0bqXH4"
      },
      "execution_count": 209,
      "outputs": []
    },
    {
      "cell_type": "code",
      "source": [
        "def mean(num):\n",
        "  return sum(num)/float(len(num))"
      ],
      "metadata": {
        "id": "iFGEJv98rNmN"
      },
      "execution_count": 210,
      "outputs": []
    },
    {
      "cell_type": "code",
      "source": [
        "def standard_deviation(num):\n",
        "  avg = mean(num)\n",
        "  variance = sum([pow(x-avg, 2) for x in num])/float(len(num)-1)\n",
        "  return math.sqrt(variance)"
      ],
      "metadata": {
        "id": "NXZTA-W6rRwA"
      },
      "execution_count": 211,
      "outputs": []
    },
    {
      "cell_type": "code",
      "source": [
        "def summarize(dataset):\n",
        "  summaries = [(mean(attribute), standard_deviation(attribute)) for attribute in zip(*dataset)[:-1]]\n",
        "  return summaries"
      ],
      "metadata": {
        "id": "l5997WHMsS5A"
      },
      "execution_count": 212,
      "outputs": []
    },
    {
      "cell_type": "code",
      "source": [
        "def summarize_class(dataset):\n",
        "  separated = separate_class(dataset)\n",
        "  summaries = {}\n",
        "  for classValue, instances in separated.items():\n",
        "    attributes = list(zip(*instances))[:-1]  # Convert zip to list to allow slicing\n",
        "    summaries[classValue] = [(mean(attribute), standard_deviation(attribute)) for attribute in attributes]\n",
        "  return summaries"
      ],
      "metadata": {
        "id": "EHxE_gt_rah6"
      },
      "execution_count": 213,
      "outputs": []
    },
    {
      "cell_type": "code",
      "source": [
        "def calculate_probability(x, mean, stdev):\n",
        "  exponent = math.exp(-math.pow(x-mean, 2)/(2*math.pow(stdev, 2)))\n",
        "  return (1/(math.sqrt(2*math.pi)*stdev))*exponent"
      ],
      "metadata": {
        "id": "dqqhuvuWrxgu"
      },
      "execution_count": 214,
      "outputs": []
    },
    {
      "cell_type": "code",
      "source": [
        "def calculate_class_probability(summaries, input_vector):\n",
        "  probabilities = {}\n",
        "  for classValue, classSummaries in summaries.items():\n",
        "    probabilities[classValue] = 1\n",
        "    for i in range(len(classSummaries)):\n",
        "      mean, stdev = classSummaries[i]\n",
        "      x = input_vector[i]\n",
        "      probabilities[classValue]*= calculate_probability(x, mean, stdev)\n",
        "  return probabilities"
      ],
      "metadata": {
        "id": "jvZ_1nYiskqb"
      },
      "execution_count": 215,
      "outputs": []
    },
    {
      "cell_type": "code",
      "source": [
        "def predict(summaries, input_vector):\n",
        "  probabilities = calculate_class_probability(summaries, input_vector)\n",
        "  bestLabel, BestProb = None, -1\n",
        "  for classValue, probability in probabilities.items():\n",
        "    if bestLabel is None or probability > BestProb:\n",
        "      bestLabel = classValue\n",
        "      BestProb = probability\n",
        "  return bestLabel"
      ],
      "metadata": {
        "id": "KtIjgnXEtV63"
      },
      "execution_count": 216,
      "outputs": []
    },
    {
      "cell_type": "code",
      "source": [
        "def get_predictions(summaries, test_set):\n",
        "  predictions = []\n",
        "  for i in range(len(test_set)):\n",
        "    result = predict(summaries, test_set[i])\n",
        "    predictions.append(result)\n",
        "  return predictions"
      ],
      "metadata": {
        "id": "AZd_FC-ot1o9"
      },
      "execution_count": 217,
      "outputs": []
    },
    {
      "cell_type": "code",
      "source": [
        "def get_accuracy(test_set, predictions):\n",
        "  correct = 0\n",
        "  for x in range(len(test_set)):\n",
        "    if test_set[x][-1] == predictions[x]:\n",
        "      correct+=1\n",
        "  return (correct/float(len(test_set))) * 100.0"
      ],
      "metadata": {
        "id": "gtcW6OX7uN-T"
      },
      "execution_count": 218,
      "outputs": []
    },
    {
      "cell_type": "code",
      "source": [
        "def main():\n",
        "  ## define filename, split_ratio and load csv\n",
        "  filename = \"sample_data/diabetes.csv\"\n",
        "  split_ratio = 0.67\n",
        "  dataset = load_csv(filename)\n",
        "\n",
        "  ## split the actual dataset into train and test model\n",
        "  training_set, test_set = split_dataset(dataset, split_ratio)\n",
        "  print(f\"Splitted {len(dataset)} into train = {len(training_set)} and test = {len(test_set)}\")\n",
        "\n",
        "  ## prepare model for summarizations\n",
        "  summaries = summarize_class(training_set)\n",
        "\n",
        "  ## get the predictions and calculate the accuracy\n",
        "  predictions = get_predictions(summaries, test_set)\n",
        "  accuracy = get_accuracy(test_set, predictions)\n",
        "\n",
        "  print(f\"Accuracy : {accuracy : .2f}\")"
      ],
      "metadata": {
        "id": "6djeY-5oudTw"
      },
      "execution_count": 219,
      "outputs": []
    },
    {
      "cell_type": "code",
      "source": [
        "main()"
      ],
      "metadata": {
        "colab": {
          "base_uri": "https://localhost:8080/"
        },
        "id": "tmnRMUpKvaJU",
        "outputId": "1f3697e7-d455-4538-cb7b-d4986d8d08c0"
      },
      "execution_count": 220,
      "outputs": [
        {
          "output_type": "stream",
          "name": "stdout",
          "text": [
            "Splitted 768 into train = 514 and test = 254\n",
            "Accuracy :  73.62\n"
          ]
        }
      ]
    },
    {
      "cell_type": "code",
      "source": [],
      "metadata": {
        "id": "TiegUrM7vbPU"
      },
      "execution_count": 220,
      "outputs": []
    }
  ]
}