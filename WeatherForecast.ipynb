{
  "nbformat": 4,
  "nbformat_minor": 0,
  "metadata": {
    "colab": {
      "provenance": [],
      "authorship_tag": "ABX9TyPqJr4tBGF458eDO5EMYULM",
      "include_colab_link": true
    },
    "kernelspec": {
      "name": "python3",
      "display_name": "Python 3"
    },
    "language_info": {
      "name": "python"
    }
  },
  "cells": [
    {
      "cell_type": "markdown",
      "metadata": {
        "id": "view-in-github",
        "colab_type": "text"
      },
      "source": [
        "<a href=\"https://colab.research.google.com/github/meghmodi2810/Machine-Learning-Projects/blob/main/WeatherForecast.ipynb\" target=\"_parent\"><img src=\"https://colab.research.google.com/assets/colab-badge.svg\" alt=\"Open In Colab\"/></a>"
      ]
    },
    {
      "cell_type": "code",
      "execution_count": 164,
      "metadata": {
        "id": "XBFG9uXzfQVY"
      },
      "outputs": [],
      "source": [
        "import requests\n",
        "import pandas as pd\n",
        "import numpy as np\n",
        "\n",
        "from sklearn.model_selection import train_test_split\n",
        "from sklearn.ensemble import RandomForestClassifier, RandomForestRegressor\n",
        "from sklearn.metrics import mean_squared_error\n",
        "from sklearn.preprocessing import LabelEncoder\n",
        "\n",
        "from datetime import datetime, timedelta\n",
        "\n",
        "import pytz"
      ]
    },
    {
      "cell_type": "code",
      "source": [
        "API_KEY = 'a6632f7c2c6f9fafb60831c544cf7dd4'\n",
        "BASE_URL = 'https://api.openweathermap.org/data/2.5/'"
      ],
      "metadata": {
        "id": "8UM3klwpmlxq"
      },
      "execution_count": 165,
      "outputs": []
    },
    {
      "cell_type": "code",
      "source": [
        "# prompt: get_current_weather function\n",
        "\n",
        "def get_current_weather(city):\n",
        "  \"\"\"\n",
        "  Fetches the current weather data for a given city using the OpenWeatherMap API.\n",
        "\n",
        "  Args:\n",
        "    city: The name of the city.\n",
        "\n",
        "  Returns:\n",
        "    A dictionary containing the current weather data, or None if an error occurs.\n",
        "  \"\"\"\n",
        "  url = f\"{BASE_URL}weather?q={city}&appid={API_KEY}&units=metric\"\n",
        "  response = requests.get(url)\n",
        "  data = response.json()\n",
        "\n",
        "  if response.status_code != 200:\n",
        "    print(\"Failed to get data:\", data)\n",
        "    return None\n",
        "\n",
        "  return {\n",
        "      'city': data['name'],\n",
        "      'current_temp' : round(data['main']['temp']),\n",
        "      'feels_like' : round(data['main']['feels_like']),\n",
        "      'temp_min' : round(data['main']['temp_min']),\n",
        "      'temp_max' : round(data['main']['temp_max']),\n",
        "      'humidity' : round(data['main']['humidity']),\n",
        "      'description' : data['weather'][0]['description'],\n",
        "      'country' : data['sys']['country'],\n",
        "      'wind_gust_dir' : data['wind']['deg'],\n",
        "      'pressure' : data['main']['pressure'],\n",
        "      'Wind_Gust_Speed' : data['wind']['speed'],\n",
        "      'sunrise' : datetime.fromtimestamp(data['sys']['sunrise']),\n",
        "      'sunset' : datetime.fromtimestamp(data['sys']['sunset']),\n",
        "      'wind_speed' : round(data['wind']['speed'])\n",
        "  }"
      ],
      "metadata": {
        "id": "y5dJUMfNnZxR"
      },
      "execution_count": 166,
      "outputs": []
    },
    {
      "cell_type": "code",
      "source": [
        "def read_historical_data(filename):\n",
        "  df = pd.read_csv(filename)\n",
        "  df = df.dropna()\n",
        "  df = df.drop_duplicates()\n",
        "  return df"
      ],
      "metadata": {
        "id": "aNGhh1-HpR3R"
      },
      "execution_count": 167,
      "outputs": []
    },
    {
      "cell_type": "code",
      "source": [
        "def prepare_data(data):\n",
        "  le = LabelEncoder()\n",
        "  data['WindGustDir'] = le.fit_transform(data['WindGustDir'])\n",
        "  data['RainTomorrow'] = le.fit_transform(data['RainTomorrow'])\n",
        "\n",
        "  X = data[['MinTemp', 'MaxTemp', 'WindGustDir', 'WindGustSpeed', 'Humidity', 'Pressure', 'Temp']]\n",
        "\n",
        "  y = data['RainTomorrow']\n",
        "\n",
        "  return X, y, le"
      ],
      "metadata": {
        "id": "3-Mco9d8pkbX"
      },
      "execution_count": 168,
      "outputs": []
    },
    {
      "cell_type": "code",
      "source": [
        "def train_model(X, y):\n",
        "  X_train, X_test, y_train, y_test = train_test_split(X, y, test_size=0.2, random_state=42)\n",
        "  model = RandomForestClassifier(n_estimators=100, random_state=42)\n",
        "  model.fit(X_train, y_train)\n",
        "\n",
        "  X_pred = model.predict(X_test)\n",
        "  mse = mean_squared_error(y_test, X_pred)\n",
        "  print(f'Mean Squared Error: {mse}')\n",
        "\n",
        "  return model"
      ],
      "metadata": {
        "id": "3HOyDhNWrafB"
      },
      "execution_count": 169,
      "outputs": []
    },
    {
      "cell_type": "code",
      "source": [
        "def prepare_regression_data(data, feature):\n",
        "  ''' X to store the feature values, Y will store target values to predict'''\n",
        "  X, y = [], []\n",
        "\n",
        "  for i in range(len(data) - 1):\n",
        "    X.append(data[feature].iloc[i])\n",
        "    y.append(data[feature].iloc[i+1])\n",
        "\n",
        "  return np.array(X).reshape(-1, 1), np.array(y)\n",
        "\n"
      ],
      "metadata": {
        "id": "XZOT-NoUr95g"
      },
      "execution_count": 170,
      "outputs": []
    },
    {
      "cell_type": "code",
      "source": [
        "def train_regression_model(X, y):\n",
        "  model = RandomForestRegressor(random_state=42, n_estimators=100)\n",
        "  model.fit(X, y)\n",
        "\n",
        "  return model"
      ],
      "metadata": {
        "id": "OI0GqIjXtPPO"
      },
      "execution_count": 171,
      "outputs": []
    },
    {
      "cell_type": "code",
      "source": [
        "def predict_future(model, curr):\n",
        "  predictions = [curr]\n",
        "\n",
        "  for i in range(5):\n",
        "    next = model.predict(np.array([[predictions[-1]]]))\n",
        "    predictions.append(next[0])\n",
        "\n",
        "  return predictions[1:]"
      ],
      "metadata": {
        "id": "o8ReuhmWuEiD"
      },
      "execution_count": 172,
      "outputs": []
    },
    {
      "cell_type": "code",
      "source": [
        "def weather_view():\n",
        "  city = input(\"Enter the city name: \")\n",
        "  current_weather = get_current_weather(city)\n",
        "\n",
        "  if current_weather is None:\n",
        "    print(\"Error: Could not retrieve weather data.\")\n",
        "    return\n",
        "\n",
        "  historical_data = read_historical_data('sample_data/weather.csv')\n",
        "  # print(historical_data.columns)\n",
        "\n",
        "  X, y, le = prepare_data(historical_data)\n",
        "  model = train_model(X, y)\n",
        "  wind_deg = current_weather['wind_gust_dir'] % 360\n",
        "\n",
        "  compass_points = [\n",
        "      (\"N\", 0, 11.25), (\"NNE\", 11.25, 33.75), (\"NE\", 33.75, 56.25),\n",
        "      (\"ENE\", 56.25, 78.75), (\"E\", 78.75, 101.25), (\"ESE\", 101.25, 123.75),\n",
        "      (\"SE\", 123.75, 146.25), (\"SSE\", 146.25, 168.75), (\"S\", 168.75, 191.25),\n",
        "      (\"SSW\", 191.25, 213.75), (\"SW\", 213.75, 236.25), (\"WSW\", 236.25, 258.75),\n",
        "      (\"W\", 258.75, 281.25), (\"WNW\", 281.25, 303.75), (\"NW\", 303.75, 326.25),\n",
        "      (\"NNW\", 326.25, 348.75)\n",
        "  ]\n",
        "  compass_direction = next(point for point, start, end in compass_points if start <= wind_deg < end)\n",
        "  compass_direction_encoded = le.transform([compass_direction])[0] if compass_direction in le.classes_ else -1\n",
        "\n",
        "  current_data = {\n",
        "      'MinTemp': current_weather['temp_min'],\n",
        "      'MaxTemp': current_weather['temp_max'],\n",
        "      'WindGustDir': compass_direction_encoded,\n",
        "      'WindGustSpeed': current_weather['wind_speed'],\n",
        "      'Humidity': current_weather['humidity'],\n",
        "      'Pressure': current_weather['pressure'],\n",
        "      'Temp': current_weather['current_temp']\n",
        "  }\n",
        "\n",
        "  df = pd.DataFrame([current_data])\n",
        "  rain_predict = model.predict(df)[0]\n",
        "\n",
        "\n",
        "  X_temp, y_temp = prepare_regression_data(historical_data, 'Temp')\n",
        "  temp_model = train_regression_model(X_temp, y_temp)\n",
        "\n",
        "  X_humidity, y_humidity = prepare_regression_data(historical_data, 'Humidity')\n",
        "  humidity_model = train_regression_model(X_humidity, y_humidity)\n",
        "\n",
        "  future_temp = predict_future(temp_model, current_weather['current_temp'])\n",
        "  future_humidity = predict_future(humidity_model, current_weather['humidity'])\n",
        "\n",
        "  timezone = pytz.timezone('Asia/Kolkata')\n",
        "  now = datetime.now(timezone)\n",
        "  next_hour = now + timedelta(hours=1)\n",
        "  next_hour = next_hour.replace(minute=0, second=0, microsecond=0)\n",
        "\n",
        "  future_times = [(next_hour + timedelta(hours=i)).strftime(\"%H:00\") for i in range(5)]\n",
        "\n",
        "  print(f\"City: {current_weather['city']}\")\n",
        "  print(f\"Country: {current_weather['country']}\")\n",
        "  print(f\"Current Temprature: {current_weather['current_temp']} °C\")\n",
        "  print(f\"Minimum Temprature: {current_weather['temp_min']} °C\")\n",
        "  print(f\"Maximum Temprature: {current_weather['temp_max']} °C\")\n",
        "  print(f\"Humidity: {current_weather['humidity']}\")\n",
        "  print(f\"Pressure: {current_weather['pressure']}\")\n",
        "  print(f\"Feels Like: {current_weather['feels_like']}\")\n",
        "  print(f\"Description: {current_weather['description']}\")\n",
        "  print(f\"Wind Speed: {current_weather['Wind_Gust_Speed']}\")\n",
        "  print(f\"Wind Gust Direction: {current_weather['wind_gust_dir']}\")\n",
        "  print(f\"Rain Tomorrow: {'Yes' if rain_predict == 1 else 'No'}\")\n",
        "  print(f\"Sunrise: {current_weather['sunrise']}\")\n",
        "  print(f\"Sunset: {current_weather['sunset']}\")\n",
        "\n",
        "\n",
        "  print(\"\\nFuture Temprature Predictions: \")\n",
        "  for time, temp in zip(future_times, future_temp):\n",
        "    print(f\"{time}: {round(temp, 1)} °C\")\n",
        "\n",
        "  print(\"\\nFuture Humidity Predictions: \")\n",
        "  for time, humidity in zip(future_times, future_humidity):\n",
        "    print(f\"{time}: {round(humidity, 1)} °C\")"
      ],
      "metadata": {
        "id": "y7VkyDwwu3Dl"
      },
      "execution_count": 173,
      "outputs": []
    },
    {
      "cell_type": "code",
      "source": [
        "weather_view()"
      ],
      "metadata": {
        "colab": {
          "base_uri": "https://localhost:8080/"
        },
        "id": "hSvTZOCa1oAV",
        "outputId": "b128a03d-b885-4f69-b7dd-e35a59c12483"
      },
      "execution_count": 175,
      "outputs": [
        {
          "output_type": "stream",
          "name": "stdout",
          "text": [
            "Enter the city name: Mumbai\n",
            "Index(['MinTemp', 'MaxTemp', 'WindGustDir', 'WindGustSpeed', 'Humidity',\n",
            "       'Pressure', 'Temp', 'RainTomorrow'],\n",
            "      dtype='object')\n",
            "Mean Squared Error: 0.1506849315068493\n",
            "City: Mumbai\n",
            "Country: IN\n",
            "Current Temprature: 29 °C\n",
            "Minimum Temprature: 29 °C\n",
            "Maximum Temprature: 29 °C\n",
            "Humidity: 79\n",
            "Pressure: 1006\n",
            "Feels Like: 34\n",
            "Description: mist\n",
            "Wind Speed: 4.12\n",
            "Wind Gust Direction: 250\n",
            "Rain Tomorrow: Yes\n",
            "Sunrise: 2025-06-20 00:31:54\n",
            "Sunset: 2025-06-20 13:48:22\n",
            "\n",
            "Future Temprature Predictions: \n",
            "21:00: 22.1 °C\n",
            "22:00: 23.3 °C\n",
            "23:00: 19.0 °C\n",
            "00:00: 24.5 °C\n",
            "01:00: 24.5 °C\n",
            "\n",
            "Future Humidity Predictions: \n",
            "21:00: 54.0 °C\n",
            "22:00: 58.1 °C\n",
            "23:00: 54.2 °C\n",
            "00:00: 58.1 °C\n",
            "01:00: 54.2 °C\n"
          ]
        }
      ]
    }
  ]
}